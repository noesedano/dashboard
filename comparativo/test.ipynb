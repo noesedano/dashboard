{
 "cells": [
  {
   "cell_type": "code",
   "execution_count": 1,
   "id": "039bdf94",
   "metadata": {},
   "outputs": [],
   "source": [
    "import pandas as pd"
   ]
  },
  {
   "cell_type": "code",
   "execution_count": 4,
   "id": "c46f9255",
   "metadata": {},
   "outputs": [
    {
     "name": "stdout",
     "output_type": "stream",
     "text": [
      "<class 'pandas.core.frame.DataFrame'>\n",
      "RangeIndex: 26582 entries, 0 to 26581\n",
      "Data columns (total 51 columns):\n",
      " #   Column                       Non-Null Count  Dtype  \n",
      "---  ------                       --------------  -----  \n",
      " 0   Unnamed: 0                   26582 non-null  int64  \n",
      " 1   host_name                    26582 non-null  object \n",
      " 2   host_since                   26582 non-null  object \n",
      " 3   host_location                26582 non-null  object \n",
      " 4   host_response_time           26582 non-null  object \n",
      " 5   host_response_rate           26582 non-null  float64\n",
      " 6   host_is_superhost            26582 non-null  object \n",
      " 7   host_neighbourhood           26582 non-null  object \n",
      " 8   host_verifications           26582 non-null  object \n",
      " 9   host_has_profile_pic         26582 non-null  object \n",
      " 10  host_identity_verified       26582 non-null  object \n",
      " 11  neighbourhood                26582 non-null  object \n",
      " 12  neighbourhood_cleansed       26582 non-null  object \n",
      " 13  property_type                26582 non-null  object \n",
      " 14  room_type                    26582 non-null  object \n",
      " 15  bathrooms_text               26582 non-null  object \n",
      " 16  amenities                    26582 non-null  object \n",
      " 17  has_availability             26582 non-null  object \n",
      " 18  first_review                 26582 non-null  object \n",
      " 19  last_review                  26582 non-null  object \n",
      " 20  license                      26582 non-null  object \n",
      " 21  instant_bookable             26582 non-null  object \n",
      " 22  host_id                      26582 non-null  int64  \n",
      " 23  host_acceptance_rate         26582 non-null  float64\n",
      " 24  host_total_listings_count    26582 non-null  float64\n",
      " 25  latitude                     26582 non-null  float64\n",
      " 26  longitude                    26582 non-null  float64\n",
      " 27  accommodates                 26582 non-null  float64\n",
      " 28  bathrooms                    26582 non-null  float64\n",
      " 29  bedrooms                     26582 non-null  float64\n",
      " 30  beds                         26582 non-null  float64\n",
      " 31  price                        26582 non-null  float64\n",
      " 32  minimum_nights               26582 non-null  float64\n",
      " 33  maximum_nights               26582 non-null  int64  \n",
      " 34  minimum_nights_avg_ntm       26582 non-null  float64\n",
      " 35  maximum_nights_avg_ntm       26582 non-null  float64\n",
      " 36  availability_30              26582 non-null  int64  \n",
      " 37  availability_60              26582 non-null  int64  \n",
      " 38  availability_90              26582 non-null  int64  \n",
      " 39  availability_365             26582 non-null  int64  \n",
      " 40  number_of_reviews            26582 non-null  float64\n",
      " 41  number_of_reviews_ltm        26582 non-null  float64\n",
      " 42  number_of_reviews_l30d       26582 non-null  float64\n",
      " 43  review_scores_rating         26582 non-null  float64\n",
      " 44  review_scores_accuracy       26582 non-null  float64\n",
      " 45  review_scores_cleanliness    26582 non-null  float64\n",
      " 46  review_scores_checkin        26582 non-null  float64\n",
      " 47  review_scores_communication  26582 non-null  float64\n",
      " 48  review_scores_location       26582 non-null  float64\n",
      " 49  review_scores_value          26582 non-null  float64\n",
      " 50  reviews_per_month            26582 non-null  float64\n",
      "dtypes: float64(24), int64(7), object(20)\n",
      "memory usage: 10.3+ MB\n"
     ]
    }
   ],
   "source": [
    "df_mexico =pd.read_csv(\"50_sin_nulos_ni_atipicos_MexicoCity_DistritoFederal_Mexico.csv\")\n",
    "df_mexico['host_response_rate'] = df_mexico['host_response_rate'].str.rstrip('%').str.replace(',', '').astype(float)\n",
    "df_mexico.info()"
   ]
  },
  {
   "cell_type": "code",
   "execution_count": 5,
   "id": "d9153bae",
   "metadata": {},
   "outputs": [],
   "source": [
    "df_mexico.to_csv(\"50_sin_nulos_ni_atipicos_MexicoCity_DistritoFederal_Mexico.csv\")"
   ]
  }
 ],
 "metadata": {
  "kernelspec": {
   "display_name": "Python 3",
   "language": "python",
   "name": "python3"
  },
  "language_info": {
   "codemirror_mode": {
    "name": "ipython",
    "version": 3
   },
   "file_extension": ".py",
   "mimetype": "text/x-python",
   "name": "python",
   "nbconvert_exporter": "python",
   "pygments_lexer": "ipython3",
   "version": "3.13.1"
  }
 },
 "nbformat": 4,
 "nbformat_minor": 5
}
