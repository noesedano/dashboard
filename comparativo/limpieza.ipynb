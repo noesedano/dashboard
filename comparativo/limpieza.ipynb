{
 "cells": [
  {
   "cell_type": "code",
   "execution_count": 2,
   "id": "8f433850",
   "metadata": {},
   "outputs": [],
   "source": [
    "import pandas as pd"
   ]
  },
  {
   "cell_type": "code",
   "execution_count": 8,
   "id": "c8018572",
   "metadata": {},
   "outputs": [],
   "source": [
    "# 1️⃣ Cargar el archivo CSV original\n",
    "df = pd.read_csv(\"praga.csv\", encoding=\"utf-8\") "
   ]
  },
  {
   "cell_type": "code",
   "execution_count": 9,
   "id": "bffe0865",
   "metadata": {},
   "outputs": [
    {
     "name": "stderr",
     "output_type": "stream",
     "text": [
      "C:\\Users\\Leonardo Noe Sedano\\AppData\\Local\\Temp\\ipykernel_37840\\444730334.py:52: FutureWarning: Series.fillna with 'method' is deprecated and will raise in a future version. Use obj.ffill() or obj.bfill() instead.\n",
      "  df[\"review_scores_accuracy\"] = df[\"review_scores_accuracy\"].fillna(method = \"ffill\")\n",
      "C:\\Users\\Leonardo Noe Sedano\\AppData\\Local\\Temp\\ipykernel_37840\\444730334.py:53: FutureWarning: Series.fillna with 'method' is deprecated and will raise in a future version. Use obj.ffill() or obj.bfill() instead.\n",
      "  df[\"price\"] = df[\"price\"].fillna(method = \"ffill\")\n",
      "C:\\Users\\Leonardo Noe Sedano\\AppData\\Local\\Temp\\ipykernel_37840\\444730334.py:54: FutureWarning: Series.fillna with 'method' is deprecated and will raise in a future version. Use obj.ffill() or obj.bfill() instead.\n",
      "  df[\"reviews_per_month\"] = df[\"reviews_per_month\"].fillna(method = \"bfill\").fillna(method = \"ffill\")\n",
      "C:\\Users\\Leonardo Noe Sedano\\AppData\\Local\\Temp\\ipykernel_37840\\444730334.py:55: FutureWarning: Series.fillna with 'method' is deprecated and will raise in a future version. Use obj.ffill() or obj.bfill() instead.\n",
      "  df[\"review_scores_communication\"] = df[\"review_scores_communication\"].fillna(method = \"bfill\").fillna(method = \"ffill\")\n"
     ]
    }
   ],
   "source": [
    "columnas_seleccionadas = [\n",
    "    \"id\", \"host_name\", \"host_since\", \"host_location\", \"host_response_time\",\n",
    "    \"host_response_rate\", \"host_acceptance_rate\", \"host_is_superhost\",\n",
    "    \"host_neighbourhood\", \"host_total_listings_count\", \"host_verifications\",\n",
    "    \"host_has_profile_pic\", \"host_identity_verified\", \"neighbourhood\",\n",
    "    \"neighbourhood_cleansed\", \"latitude\", \"longitude\", \"property_type\",\n",
    "    \"room_type\", \"accommodates\", \"bathrooms\", \"bathrooms_text\", \"bedrooms\",\n",
    "    \"beds\", \"amenities\", \"price\", \"minimum_nights\", \"maximum_nights\",\n",
    "    \"minimum_nights_avg_ntm\", \"maximum_nights_avg_ntm\", \"has_availability\",\n",
    "    \"availability_30\", \"availability_60\", \"availability_90\",\n",
    "    \"availability_365\", \"number_of_reviews\", \"number_of_reviews_ltm\",\n",
    "    \"number_of_reviews_l30d\", \"first_review\", \"last_review\",\n",
    "    \"review_scores_rating\", \"review_scores_accuracy\", \"review_scores_cleanliness\",\n",
    "    \"review_scores_checkin\", \"review_scores_communication\", \"review_scores_location\",\n",
    "    \"review_scores_value\", \"license\", \"instant_bookable\", \"reviews_per_month\"\n",
    "]\n",
    "\n",
    "df = df[columnas_seleccionadas]\n",
    "#Categoricas\n",
    "df[\"host_location\"] = df[\"host_location\"].fillna(\"No location\")\n",
    "df[\"host_response_time\"] = df[\"host_response_time\"].fillna(\"Not defined\")\n",
    "df[\"host_response_rate\"] = df[\"host_response_rate\"].fillna(\"0%\")#\n",
    "df[\"host_acceptance_rate\"] = df[\"host_acceptance_rate\"].fillna(\"0%\")#\n",
    "df[\"host_neighbourhood\"] = df[\"host_neighbourhood\"].fillna(\"Not specified\")\n",
    "df[\"neighbourhood\"] = df[\"neighbourhood\"].fillna(\"No specified\")\n",
    "df[\"first_review\"] = df[\"first_review\"].fillna(\"31/12/2030\")\n",
    "df[\"last_review\"] = df[\"last_review\"].fillna(\"31/12/2030\")\n",
    "df[\"license\"] = df[\"license\"].fillna(\"Without license\")\n",
    "df[\"bathrooms_text\"] = df[\"bathrooms_text\"].fillna(\"0 zero\")#\n",
    "df[\"host_identity_verified\"] = df[\"host_identity_verified\"].fillna(\"f\")#\n",
    "df[\"has_availability\"] = df[\"has_availability\"].fillna(\"f\")#\n",
    "df[\"instant_bookable\"] = df[\"instant_bookable\"].fillna(\"f\")#\n",
    "df[\"host_is_superhost\"] = df[\"host_is_superhost\"].fillna(\"f\")#\n",
    "df[\"host_has_profile_pic\"] = df[\"host_has_profile_pic\"].fillna(\"f\")#\n",
    "df[\"host_name\"] = df[\"host_name\"].fillna(\"Unknown\")#\n",
    "df[\"host_since\"] = df[\"host_since\"].fillna(\"31/12/2030\")\n",
    "df[\"host_verifications\"] = df[\"host_verifications\"].fillna(\"[None]\")\n",
    "\n",
    "#Numericas\n",
    "df['price'] = df['price'].str.lstrip('$').str.replace(',', '').astype(float)\n",
    "df = df.replace(\",\", \"\", regex=True)\n",
    "df = df.replace(\"%\", \"\", regex=True)\n",
    "\n",
    "df[\"bathrooms\"] = df[\"bathrooms\"].fillna(404)\n",
    "df[\"beds\"] = df[\"beds\"].fillna(404)\n",
    "df[\"bedrooms\"] = df[\"bedrooms\"].fillna(404)\n",
    "df[\"review_scores_location\"] = df[\"review_scores_location\"].fillna(round(df[\"review_scores_location\"].median(), 1))\n",
    "df[\"review_scores_value\"] = df[\"review_scores_value\"].fillna(round(df[\"review_scores_value\"].median(), 1))\n",
    "df[\"review_scores_cleanliness\"] = df[\"review_scores_cleanliness\"].fillna(round(df[\"review_scores_cleanliness\"].median(), 1))\n",
    "df[\"review_scores_rating\"] = df[\"review_scores_rating\"].fillna(round(df[\"review_scores_rating\"].mean(), 1))\n",
    "df[\"review_scores_checkin\"] = df[\"review_scores_checkin\"].fillna(round(df[\"review_scores_checkin\"].mean(), 1))\n",
    "df[\"review_scores_accuracy\"] = df[\"review_scores_accuracy\"].fillna(method = \"ffill\")\n",
    "df[\"price\"] = df[\"price\"].fillna(method = \"ffill\")\n",
    "df[\"reviews_per_month\"] = df[\"reviews_per_month\"].fillna(method = \"bfill\").fillna(method = \"ffill\")\n",
    "df[\"review_scores_communication\"] = df[\"review_scores_communication\"].fillna(method = \"bfill\").fillna(method = \"ffill\")\n",
    "\n",
    "#Valores atipicos\n",
    "cuantitativas = df.iloc[ : , [0, 9, 15, 16, 19, 20, 22, 23, 26, 27, 28, 29, 31, 32, 33, 34, 35, 36, 37, 40, 41, 42, 43, 44, 45, 46, 49]]\n",
    "cualitativas = df.iloc[ : , [1, 2, 3, 4, 5, 6, 7, 8, 10, 11, 12, 13, 14, 17, 18, 21, 24, 25, 30, 38, 39, 47, 48]]\n",
    "y = cuantitativas\n",
    "Limite_Superior = y.mean() + 3*y.std()\n",
    "Limite_Inferior = y.mean() - 3*y.std()\n",
    "data2 = cuantitativas[(y <= Limite_Superior) & (y >= Limite_Inferior)]\n",
    "data_clean = data2.copy()\n",
    "data_clean = data_clean.fillna(round(data2.mean(), 1))\n",
    "y = cuantitativas\n",
    "percentile25 = y.quantile(0.25) #Q1\n",
    "percentile75 = y.quantile(0.75) #Q3\n",
    "iqr = percentile75 - percentile25\n",
    "Limite_Superior_iqr = percentile75 + 1.5*iqr\n",
    "Limite_Inferior_iqr = percentile25 - 1.5*iqr\n",
    "data2_iqr = cuantitativas[(y <= Limite_Superior_iqr) & (y>= Limite_Inferior_iqr)]\n",
    "df_iqr = data2_iqr.copy()\n",
    "df_iqr = df_iqr.fillna(round(data2_iqr.mean(), 1))\n",
    "Datos_limpios = pd.concat([cualitativas, df_iqr], axis = 1)\n",
    "df = Datos_limpios\n",
    "df.to_csv(\"PragaClean1.csv\", index=0)"
   ]
  },
  {
   "cell_type": "code",
   "execution_count": 5,
   "id": "a8c65fc6",
   "metadata": {},
   "outputs": [
    {
     "data": {
      "text/plain": [
       "0"
      ]
     },
     "execution_count": 5,
     "metadata": {},
     "output_type": "execute_result"
    }
   ],
   "source": [
    "valores_nulos = df.isnull().sum().sum()\n",
    "valores_nulos"
   ]
  },
  {
   "cell_type": "code",
   "execution_count": 6,
   "id": "05d7e747",
   "metadata": {},
   "outputs": [
    {
     "data": {
      "text/plain": [
       "host_name                      0\n",
       "host_since                     0\n",
       "host_location                  0\n",
       "host_response_time             0\n",
       "host_response_rate             0\n",
       "host_acceptance_rate           0\n",
       "host_is_superhost              0\n",
       "host_neighbourhood             0\n",
       "host_verifications             0\n",
       "host_has_profile_pic           0\n",
       "host_identity_verified         0\n",
       "neighbourhood                  0\n",
       "neighbourhood_cleansed         0\n",
       "property_type                  0\n",
       "room_type                      0\n",
       "bathrooms_text                 0\n",
       "amenities                      0\n",
       "price                          0\n",
       "has_availability               0\n",
       "first_review                   0\n",
       "last_review                    0\n",
       "license                        0\n",
       "instant_bookable               0\n",
       "id                             0\n",
       "host_total_listings_count      0\n",
       "latitude                       0\n",
       "longitude                      0\n",
       "accommodates                   0\n",
       "bathrooms                      0\n",
       "bedrooms                       0\n",
       "beds                           0\n",
       "minimum_nights                 0\n",
       "maximum_nights                 0\n",
       "minimum_nights_avg_ntm         0\n",
       "maximum_nights_avg_ntm         0\n",
       "availability_30                0\n",
       "availability_60                0\n",
       "availability_90                0\n",
       "availability_365               0\n",
       "number_of_reviews              0\n",
       "number_of_reviews_ltm          0\n",
       "number_of_reviews_l30d         0\n",
       "review_scores_rating           0\n",
       "review_scores_accuracy         0\n",
       "review_scores_cleanliness      0\n",
       "review_scores_checkin          0\n",
       "review_scores_communication    0\n",
       "review_scores_location         0\n",
       "review_scores_value            0\n",
       "reviews_per_month              0\n",
       "dtype: int64"
      ]
     },
     "execution_count": 6,
     "metadata": {},
     "output_type": "execute_result"
    }
   ],
   "source": [
    "valores_nulos = df.isnull().sum()\n",
    "valores_nulos"
   ]
  }
 ],
 "metadata": {
  "kernelspec": {
   "display_name": "Python 3",
   "language": "python",
   "name": "python3"
  },
  "language_info": {
   "codemirror_mode": {
    "name": "ipython",
    "version": 3
   },
   "file_extension": ".py",
   "mimetype": "text/x-python",
   "name": "python",
   "nbconvert_exporter": "python",
   "pygments_lexer": "ipython3",
   "version": "3.12.3"
  }
 },
 "nbformat": 4,
 "nbformat_minor": 5
}
