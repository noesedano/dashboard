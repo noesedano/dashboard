{
 "cells": [
  {
   "cell_type": "code",
   "execution_count": null,
   "metadata": {
    "vscode": {
     "languageId": "plaintext"
    }
   },
   "outputs": [],
   "source": [
    "#condicional para que aparezca  la grafica tipo line plot\n",
    "\n",
    "#contenido de la vista 2\n",
    "elif View == \"View 2\":\n",
    "#generamos "
   ]
  }
 ],
 "metadata": {
  "language_info": {
   "name": "python"
  }
 },
 "nbformat": 4,
 "nbformat_minor": 2
}
